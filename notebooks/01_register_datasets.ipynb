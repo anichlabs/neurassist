{
 "cells": [
  {
   "cell_type": "markdown",
   "id": "cdeb1c96",
   "metadata": {},
   "source": [
    "# 1. Register datasets and paths (minimal, reproducible)\n",
    "Create a single source of truth (`configs/datasets.yaml`) that records where raw EEG/EMG datasets live locally and the target sampling rates/channel subsets to match OpenBCI, keeping notebooks for experiments and `/src` for code.\n",
    "#### Rationale:\n",
    "- Guarantee **reproducibility** by centralising dataset paths and preprocessing targets.\n",
    "- Enforce a **clear contract** early (names, rates, channels) before any loader code.\n",
    "- Enable **device-matching** via explicit resampling targets (e.g., 125 Hz).\n",
    "- Keep **scope small**: write only one config file now: no loaders yet.\n"
   ]
  },
  {
   "cell_type": "markdown",
   "id": "4bcceb26",
   "metadata": {},
   "source": [
    "# Create a minimal datasets registry at configs/datasets.yaml\n",
    "# Keep this simple: only paths + basic targets; no loader code yet.\n"
   ]
  }
 ],
 "metadata": {
  "language_info": {
   "name": "python"
  }
 },
 "nbformat": 4,
 "nbformat_minor": 5
}
