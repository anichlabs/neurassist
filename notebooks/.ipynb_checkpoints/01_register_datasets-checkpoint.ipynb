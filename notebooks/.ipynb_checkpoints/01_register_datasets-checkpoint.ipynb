{
 "cells": [
  {
   "cell_type": "markdown",
   "id": "cdeb1c96",
   "metadata": {},
   "source": [
    "# 1. Register datasets and paths (minimal, reproducible)\n",
    "Create a single source of truth (`configs/datasets.yaml`) that records where raw EEG/EMG datasets live locally and the target sampling rates/channel subsets to match OpenBCI, keeping notebooks for experiments and `/src` for code.\n",
    "#### Rationale:\n",
    "- Guarantee **reproducibility** by centralising dataset paths and preprocessing targets.\n",
    "- Enforce a **clear contract** early (names, rates, channels) before any loader code.\n",
    "- Enable **device-matching** via explicit resampling targets (e.g., 125 Hz).\n",
    "- Keep **scope small**: write only one config file now: no loaders yet.\n",
    "- Promote **human readability** so that configuration can be easily reviewed or version-controlled."
   ]
  },
  {
   "cell_type": "code",
   "execution_count": 2,
   "id": "4bcceb26",
   "metadata": {},
   "outputs": [
    {
     "name": "stdout",
     "output_type": "stream",
     "text": [
      "Dataset registry written successfully at: /lab/px/anichlabs/neurassist/configs/datasets.yaml\n"
     ]
    }
   ],
   "source": [
    "# Step 1: Create a reproducible dataset registry at configs/datasets.yaml\n",
    "# ------------------------------------------------------------------------\n",
    "# This code writes a YAML configuration file that records:\n",
    "#   1. The local folder where each dataset has been extracted.\n",
    "#   2. The desired target sampling frequency (so all data later matches OpenBCI rates).\n",
    "#   3. The subset of channels that are relevant for motor-imagery or muscle activity.\n",
    "# The file is created only once and can be safely re-run (it overwrites the same file).\n",
    "\n",
    "from pathlib import Path\n",
    "\n",
    "# Determine the absolute path of the project root (expected to be inside neurassist/).\n",
    "PROJECT_ROOT = Path(\"..\").resolve()\n",
    "\n",
    "# Define the path to the 'configs' directory.\n",
    "CONFIG_DIR = PROJECT_ROOT / \"configs\"\n",
    "\n",
    "# Create it if it does not exist to ensure a consistent structure.\n",
    "CONFIG_DIR.mkdir(parents=True, exist_ok=True)\n",
    "\n",
    "# Compose the YAML content. Triple quotes allow multi-line strings for readability.\n",
    "# Each dataset section includes local_path, target_sampling_hz, and channels_keep.\n",
    "YAML_TEXT = \"\"\"# configs/datasets.yaml\n",
    "# Central registry of dataset paths and sampling targets.\n",
    "# Edit only the paths to point to local copies of the datasets.\n",
    "# All subsequent scripts will read from this file.\n",
    "\n",
    "eeg:\n",
    "  physionet_eegmmidb:\n",
    "    local_path: \"data_raw/eeg/physionet_eegmmidb\"\n",
    "    target_sampling_hz: 125\n",
    "    channels_keep: [\"C3\", \"Cz\", \"C4\", \"FC3\", \"FC4\", \"CP3\", \"CP4\"]\n",
    "\n",
    "  bnci_002_2014:\n",
    "    local_path: \"data_raw/eeg/bnci_002_2014\"\n",
    "    target_sampling_hz: 125\n",
    "    channels_keep: [\"C3\", \"Cz\", \"C4\", \"FC3\", \"FC4\", \"CP3\", \"CP4\"]\n",
    "\n",
    "emg:\n",
    "  ninapro_db2:\n",
    "    local_path: \"data_raw/emg/ninapro_db2\"\n",
    "    target_sampling_hz: 250\n",
    "    channels_keep: [\"forearm_flexors\", \"forearm_extensors\", \"biceps_brachii\", \"triceps_brachii\"]\n",
    "\"\"\"\n",
    "\n",
    "# Define the full path of the output YAML file.\n",
    "OUTPUT_FILE = CONFIG_DIR / \"datasets.yaml\"\n",
    "\n",
    "# Write the YAML text to disk using UTF-8 encoding.\n",
    "# If the file already exists, it will be overwritten with the same content.\n",
    "OUTPUT_FILE.write_text(YAML_TEXT, encoding=\"utf-8\")\n",
    "\n",
    "# Print confirmation to verify the file creation and its absolute path.\n",
    "print(f'Dataset registry written successfully at: {OUTPUT_FILE}')"
   ]
  },
  {
   "cell_type": "markdown",
   "id": "3043f040-c2d1-4a9b-8a7b-ec0a0f3af1f3",
   "metadata": {},
   "source": [
    "# 2. Verify dataset registry and local folders.\n",
    "Read the YAML ragistry created in step 1 and confirm that each dataset path exists locally and is not empty. This ensures that later loaders will have valid data sources before any preprocessing or modelling.\n",
    "#### Rationale:\n",
    "- Validate **file-system consistency** early to avoid silent path errors later.\n",
    "- Build a small reusable utility to check dataset readiness.\n",
    "- Teach how to use the `yaml` library safely (`yaml.safe_load`) for reproducible configuration parsing.\n",
    "- Reinforce good engineering practice: verify assumptions before executing data pipelines."
   ]
  },
  {
   "cell_type": "code",
   "execution_count": null,
   "id": "acf07b6b-418a-49d6-a449-c39a25cf7ffe",
   "metadata": {},
   "outputs": [],
   "source": [
    "# Step 2: Validate datasets.yaml and check dataset folders.\n",
    "# ---------------------------------------------------------\n",
    "# This code reads the YAML file created in Step 1 and verifies:\n",
    "#   1. The file exists and is readable.\n",
    "#   2. Each dataset section has a 'local_path' field.\n",
    "#   3. Each referenced directory exists and contains at least one file.\n",
    "# This prevents downstream errors when trying to load missing datasets.\n",
    "\n",
    "from pathlib import Path\n",
    "import yaml # PyYAML is part of most complete scientific Python environments.\n",
    "import os\n",
    "\n",
    "# Define paths.\n",
    "PROJECT_ROOT = Path(\"..\").resolve()\n",
    "CONFIG_FILE  = PROJECT_ROOT / \"configs\" / \"datasets.yaml\"\n",
    "\n",
    "# Check that the YAML file exists.\n",
    "if not CONFIG_FILE.exists():\n",
    "    raise FileNotFoundError(f'Configuration file not found: {CONFIG_FILE}')\n",
    "\n",
    "# Load the YAML content safely.\n",
    "with CONFIG_FILE.open(\"r\", encoding=\"utf-8\") as f:\n",
    "    CONFIG = yaml.safe_load()\n",
    "\n",
    "# Function to verify that each dataset path exists and is non-empty.\n",
    "def verify_dataaset(config_dict):\n",
    "    \"\"\"\n",
    "    Iterate through EEG and EMG entries, verifying that the given\n",
    "    local_path exists and contains at least one fil or subdirectory.\n",
    "    \"\"\"\n",
    "    for domain, datasets in config_dict.items"
   ]
  }
 ],
 "metadata": {
  "kernelspec": {
   "display_name": "Python (thesis CUDA)",
   "language": "python",
   "name": "thesis"
  },
  "language_info": {
   "codemirror_mode": {
    "name": "ipython",
    "version": 3
   },
   "file_extension": ".py",
   "mimetype": "text/x-python",
   "name": "python",
   "nbconvert_exporter": "python",
   "pygments_lexer": "ipython3",
   "version": "3.10.18"
  }
 },
 "nbformat": 4,
 "nbformat_minor": 5
}
